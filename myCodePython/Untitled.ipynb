{
 "cells": [
  {
   "cell_type": "markdown",
   "metadata": {},
   "source": [
    "# MAIN FILE"
   ]
  },
  {
   "cell_type": "markdown",
   "metadata": {},
   "source": [
    "### Useful function calls"
   ]
  },
  {
   "cell_type": "code",
   "execution_count": 1,
   "metadata": {},
   "outputs": [
    {
     "name": "stdout",
     "output_type": "stream",
     "text": [
      "Populating the interactive namespace from numpy and matplotlib\n",
      "         2 function calls in 0.000 seconds\n",
      "\n",
      "   Ordered by: standard name\n",
      "\n",
      "   ncalls  tottime  percall  cumtime  percall filename:lineno(function)\n",
      "        1    0.000    0.000    0.000    0.000 <string>:1(<module>)\n",
      "        1    0.000    0.000    0.000    0.000 {method 'disable' of '_lsprof.Profiler' objects}\n",
      "\n",
      "\n"
     ]
    }
   ],
   "source": [
    "%pylab inline\n",
    "import cProfile\n",
    "cProfile.run('')\n",
    "import time\n",
    "# from numba import jit,autojit\n",
    "from pdb import set_trace as bp\n",
    "from math import *\n",
    "# import numpy as np\n",
    "import pandas as pd\n",
    "import scipy.linalg as linalg\n",
    "import scipy.optimize as opt\n",
    "# from Coordinates import allCoordinates\n",
    "# from Connectivity import Connectivity\n",
    "from sklearn.neighbors import KDTree"
   ]
  },
  {
   "cell_type": "markdown",
   "metadata": {},
   "source": [
    "### Input Parameters"
   ]
  },
  {
   "cell_type": "code",
   "execution_count": 2,
   "metadata": {},
   "outputs": [],
   "source": [
    "shape = \"TRIANGLE\"\n",
    "angle = 90\n",
    "alpha = radians(angle)\n",
    "d = 1.\n",
    "Nx = 10.\n",
    "Lx = 1.; Ly =1.; Lz =1.;\n",
    "BC = \"YES\""
   ]
  },
  {
   "cell_type": "markdown",
   "metadata": {},
   "source": [
    "### Unit Cell nodes."
   ]
  },
  {
   "cell_type": "code",
   "execution_count": 3,
   "metadata": {},
   "outputs": [],
   "source": [
    "def cellNodes(alpha,d,shape):\n",
    "    if shape == 'HEXAGON':\n",
    "        Coord = np.zeros((4,3))\n",
    "        Coord[0,0] = 0; Coord[0,1] = 0; Coord[0,2] = 0\n",
    "        Coord[1,0] = Coord[0,0]; Coord[1,1] = Coord[0,1]+d; Coord[1,2] = 0\n",
    "        Coord[2,0] = Coord[1,0] + d*cos(alpha); Coord[2,1] = Coord[1,1] + d*sin(alpha); Coord[2,2] = 0\n",
    "        Coord[3,0] = Coord[1,0] - d*cos(alpha); Coord[3,1] = Coord[1,1] + d*sin(alpha); Coord[3,2] = 0\n",
    "        return Coord\n",
    "    elif shape == 'TRIANGLE':\n",
    "        Coord = np.zeros((3,3))\n",
    "        Coord[0,0] = 0; Coord[0,1] = 0; Coord[0,2] = 0\n",
    "        Coord[1,0] = d; Coord[1,1] = 0; Coord[1,2] = 0\n",
    "        Coord[2,0] = d*cos(alpha); Coord[2,1] = d*sin(alpha); Coord[2,2] = 0\n",
    "        return Coord\n",
    "    else:\n",
    "        coordinates = 'Shape Not Defined. Try Hexagon or Triangle'\n",
    "        return"
   ]
  },
  {
   "cell_type": "code",
   "execution_count": 4,
   "metadata": {},
   "outputs": [
    {
     "name": "stdout",
     "output_type": "stream",
     "text": [
      "[[0.000000e+00 0.000000e+00 0.000000e+00]\n",
      " [1.000000e+00 0.000000e+00 0.000000e+00]\n",
      " [6.123234e-17 1.000000e+00 0.000000e+00]]\n"
     ]
    }
   ],
   "source": [
    "Coord = cellNodes(alpha,d,shape)\n",
    "print Coord"
   ]
  },
  {
   "cell_type": "code",
   "execution_count": 5,
   "metadata": {},
   "outputs": [],
   "source": [
    "if shape == \"HEXAGON\":\n",
    "\td = Lx/(2*Nx*cos(alpha))\n",
    "\tNy = Ly/(d*(2 + 2*sin(alpha)))\n",
    "\tNy = int(Ny)\n",
    "\tprint(Ny)\n",
    "\n",
    "if shape == \"TRIANGLE\":\n",
    "\td = Lx/Nx\n",
    "\tNy = 0.5*Ly/(d*sin(alpha))\n",
    "\tNy = int(Ny)\n",
    "\n",
    "nx = np.arange(0,Nx+1)\n",
    "ny = np.arange(0,Ny)\n"
   ]
  },
  {
   "cell_type": "code",
   "execution_count": 6,
   "metadata": {},
   "outputs": [],
   "source": [
    "def allCoordinates(alpha,d,nx,ny,shape,BC,plot):\n",
    "\t\"\"\"\n",
    "\tshape = \"HEXAGON\"\n",
    "\tBC = 'yes'\n",
    "\td = 1\n",
    "\tangle = 30\n",
    "\talpha = radians(angle)\n",
    "\tunitcell = cellNodes(alpha,d,shape)\n",
    "\txDirection = unitcell\n",
    "\tnx = np.arange(1,20)\n",
    "\tny = np.arange(1,30)\n",
    "\tbp() # Break point for debugging\n",
    "\t\"\"\"\n",
    "\tbp()\n",
    "\tunitcell = cellNodes(alpha,d,shape)\n",
    "\txDirection = unitcell\n",
    "\tif shape == \"HEXAGON\":\n",
    "\t\tfor ii in range(0,len(nx)-1):\n",
    "\t\t\txSweep = unitcell[0:4,:] + [nx[ii]*2*d*cos(alpha),0,0]\n",
    "\t\t\txDirection = np.concatenate((xDirection,xSweep),axis=0)\n",
    "\t\tdf = pd.DataFrame(xDirection) # Converts the array to a dataframe\n",
    "\t\txDirection = df.drop_duplicates() # Checks for duplicates\n",
    "\t\txDirection = df.drop_duplicates().values # Converts dataframe back to array\n",
    "\t\txTop = xDirection[:,1] == (max(xDirection[:,1]))\n",
    "\t\txt = xDirection[xTop,:] + [0,d,0]\n",
    "\t\txDirection = np.concatenate((xDirection,xt),axis=0)\n",
    "\t\tyDirection = xDirection\n",
    "\t\tif len(ny) != 1:\n",
    "\t    \t\tfor ii in range(0,len(ny)-1):\n",
    "\t        \t\tySweep = xDirection[:,:] + [0,ny[ii]*2*d*(1+sin(alpha)),0]\n",
    "\t        \t\tyDirection = np.concatenate((yDirection,ySweep),axis=0)\n",
    "\t    \telse:\n",
    "\t        \tyDirection = xDirection\n",
    "\t\ttemp  = np.round(yDirection[:,1],4) == round(max(yDirection[:,1] \\\n",
    "\t\t\t\t\t\t\t\t\t\t- d*(1+sin(alpha))),4)\n",
    "\n",
    "\t\tyTop = yDirection[temp,:] + [0,d*(1+2*sin(alpha)),0];\n",
    "\t\tyDirection = np.concatenate((yDirection,yTop),axis=0)\n",
    "\n",
    "\t\tdel temp\n",
    "\t\tdel yTop\n",
    "\t\tallCoordinates = yDirection\n",
    "\t\tdel xDirection, yDirection\n",
    "\n",
    "\t##########################;\n",
    "\t# Making Periodic Lattice ;\n",
    "\t##########################;\n",
    "\t\tif BC=='no':\n",
    "\t\t\ttemp = np.round(allCoordinates[:,1],4) == round(max(allCoordinates[:,1]),4)\n",
    "\t\t\tyTop = allCoordinates[temp,:] + [0,d,0]\n",
    "\t\t\tallCoordinates = np.concatenate((allCoordinates,yTop),axis=0)\n",
    "\t\t\tdel temp\n",
    "\t\t\ttemp = np.round(allCoordinates[:,1],4) == round(max(allCoordinates[:,1]),4)\n",
    "\t\t\tallCoordinates[temp,:] = [0, 0, 0]\n",
    "\n",
    "\t###########;\n",
    "\t# Triangle ;\n",
    "\t###########;\n",
    "\tif shape == \"TRIANGLE\":\n",
    "\t\tfor ii in range(1,len(nx)-1):\n",
    "\t\t\txSweep = unitcell[0:3,:] + [nx[ii]*d,0,0]\n",
    "\t\t\txDirection = np.concatenate((xDirection,xSweep),axis=0)\n",
    "\t\t\n",
    "\t\tdf = pd.DataFrame(xDirection) # Converts the array to a dataframe\n",
    "\t\txDirection = df.drop_duplicates() # Checks for duplicates\n",
    "\t\txDirection = df.drop_duplicates().values # Converts dataframe back to array\n",
    "\t\tallCoordinates = xDirection\n",
    "\t\tangle = degrees(alpha)\n",
    "\t\t\n",
    "\t\tif angle == 90:\n",
    "\t\t\ttemp = np.round(allCoordinates[:,0],4) ==\\\n",
    "\t\t\t round(max(allCoordinates[:,0]),4)\n",
    "\t\t\tallCoordinates[temp,:] = [0, 0, 0]\n",
    "\t\t\n",
    "\t\tyDirection = xDirection\n",
    "\t\t\n",
    "\t\tfor ii in range (1,len(ny)):\n",
    "        \t\tySweep = xDirection[:,:] + [0,ny[ii]*2*d*sin(alpha),0];\n",
    "        \t\tyDirection = np.concatenate((yDirection,ySweep),axis=0)\n",
    "    \t\ttemp = yDirection[:,1] == max(yDirection[:,1])\n",
    "        \tyDirection[temp,:] = [0, 0, 0]\n",
    "    \t\n",
    "    \t\tdel temp\n",
    "    \t\n",
    "    \t\tallCoordinates = yDirection\n",
    "\n",
    "    \t\tdel xDirection, yDirection\n",
    "\n",
    "\t####################;\n",
    "\t# # Drop Duplicates ;\n",
    "\t####################;\n",
    "\tallCoordinates = np.sort(allCoordinates[:,:],1)\n",
    "\tprint allCoordinates\n",
    "\tbp()\n",
    "\tallCoordinates = allCoordinates[allCoordinates[:,1].argsort(axis=0)]\n",
    "\tdf = pd.DataFrame(allCoordinates) # Converts the array to a dataframe\n",
    "\tallCoordinates = df.drop_duplicates() # Checks for duplicates\n",
    "\tallCoordinates = df.drop_duplicates().values\n",
    "\t\n",
    "\tif plot == 1:\n",
    "\t\tplt.figure(1)\n",
    "\t\tplt.plot(allCoordinates[:,0],allCoordinates[:,1],'.')\n",
    "\t\tplt.axis('equal')\n",
    "\t\tplt.draw()\n",
    "\tnp.savetxt('allCoordinates.txt', allCoordinates, delimiter=',')\n",
    "\treturn allCoordinates"
   ]
  },
  {
   "cell_type": "code",
   "execution_count": 8,
   "metadata": {},
   "outputs": [
    {
     "name": "stdout",
     "output_type": "stream",
     "text": [
      "> <ipython-input-6-703a269bc5c2>(15)allCoordinates()\n",
      "-> unitcell = cellNodes(alpha,d,shape)\n",
      "(Pdb) c\n",
      "[[0.000000e+00 0.000000e+00 0.000000e+00]\n",
      " [0.000000e+00 0.000000e+00 1.000000e-01]\n",
      " [0.000000e+00 6.123234e-18 1.000000e-01]\n",
      " [0.000000e+00 0.000000e+00 2.000000e-01]\n",
      " [0.000000e+00 1.000000e-01 1.000000e-01]\n",
      " [0.000000e+00 0.000000e+00 3.000000e-01]\n",
      " [0.000000e+00 1.000000e-01 2.000000e-01]\n",
      " [0.000000e+00 0.000000e+00 4.000000e-01]\n",
      " [0.000000e+00 1.000000e-01 3.000000e-01]\n",
      " [0.000000e+00 0.000000e+00 5.000000e-01]\n",
      " [0.000000e+00 1.000000e-01 4.000000e-01]\n",
      " [0.000000e+00 0.000000e+00 6.000000e-01]\n",
      " [0.000000e+00 1.000000e-01 5.000000e-01]\n",
      " [0.000000e+00 0.000000e+00 6.000000e-01]\n",
      " [0.000000e+00 0.000000e+00 7.000000e-01]\n",
      " [0.000000e+00 1.000000e-01 6.000000e-01]\n",
      " [0.000000e+00 0.000000e+00 8.000000e-01]\n",
      " [0.000000e+00 1.000000e-01 7.000000e-01]\n",
      " [0.000000e+00 0.000000e+00 9.000000e-01]\n",
      " [0.000000e+00 1.000000e-01 8.000000e-01]\n",
      " [0.000000e+00 0.000000e+00 0.000000e+00]\n",
      " [0.000000e+00 1.000000e-01 9.000000e-01]\n",
      " [0.000000e+00 0.000000e+00 2.000000e-01]\n",
      " [0.000000e+00 1.000000e-01 2.000000e-01]\n",
      " [0.000000e+00 6.123234e-18 3.000000e-01]\n",
      " [0.000000e+00 2.000000e-01 2.000000e-01]\n",
      " [0.000000e+00 1.000000e-01 3.000000e-01]\n",
      " [0.000000e+00 2.000000e-01 3.000000e-01]\n",
      " [0.000000e+00 2.000000e-01 3.000000e-01]\n",
      " [0.000000e+00 2.000000e-01 4.000000e-01]\n",
      " [0.000000e+00 3.000000e-01 3.000000e-01]\n",
      " [0.000000e+00 2.000000e-01 5.000000e-01]\n",
      " [0.000000e+00 3.000000e-01 4.000000e-01]\n",
      " [0.000000e+00 2.000000e-01 6.000000e-01]\n",
      " [0.000000e+00 3.000000e-01 5.000000e-01]\n",
      " [0.000000e+00 2.000000e-01 6.000000e-01]\n",
      " [0.000000e+00 2.000000e-01 7.000000e-01]\n",
      " [0.000000e+00 3.000000e-01 6.000000e-01]\n",
      " [0.000000e+00 2.000000e-01 8.000000e-01]\n",
      " [0.000000e+00 3.000000e-01 7.000000e-01]\n",
      " [0.000000e+00 2.000000e-01 9.000000e-01]\n",
      " [0.000000e+00 3.000000e-01 8.000000e-01]\n",
      " [0.000000e+00 0.000000e+00 2.000000e-01]\n",
      " [0.000000e+00 3.000000e-01 9.000000e-01]\n",
      " [0.000000e+00 0.000000e+00 4.000000e-01]\n",
      " [0.000000e+00 1.000000e-01 4.000000e-01]\n",
      " [0.000000e+00 6.123234e-18 5.000000e-01]\n",
      " [0.000000e+00 2.000000e-01 4.000000e-01]\n",
      " [0.000000e+00 1.000000e-01 5.000000e-01]\n",
      " [0.000000e+00 3.000000e-01 4.000000e-01]\n",
      " [0.000000e+00 2.000000e-01 5.000000e-01]\n",
      " [0.000000e+00 4.000000e-01 4.000000e-01]\n",
      " [0.000000e+00 3.000000e-01 5.000000e-01]\n",
      " [0.000000e+00 4.000000e-01 5.000000e-01]\n",
      " [0.000000e+00 4.000000e-01 5.000000e-01]\n",
      " [0.000000e+00 4.000000e-01 6.000000e-01]\n",
      " [0.000000e+00 5.000000e-01 5.000000e-01]\n",
      " [0.000000e+00 4.000000e-01 6.000000e-01]\n",
      " [0.000000e+00 4.000000e-01 7.000000e-01]\n",
      " [0.000000e+00 5.000000e-01 6.000000e-01]\n",
      " [0.000000e+00 4.000000e-01 8.000000e-01]\n",
      " [0.000000e+00 5.000000e-01 7.000000e-01]\n",
      " [0.000000e+00 4.000000e-01 9.000000e-01]\n",
      " [0.000000e+00 5.000000e-01 8.000000e-01]\n",
      " [0.000000e+00 0.000000e+00 4.000000e-01]\n",
      " [0.000000e+00 5.000000e-01 9.000000e-01]\n",
      " [0.000000e+00 0.000000e+00 6.000000e-01]\n",
      " [0.000000e+00 1.000000e-01 6.000000e-01]\n",
      " [0.000000e+00 6.123234e-18 7.000000e-01]\n",
      " [0.000000e+00 2.000000e-01 6.000000e-01]\n",
      " [0.000000e+00 1.000000e-01 7.000000e-01]\n",
      " [0.000000e+00 3.000000e-01 6.000000e-01]\n",
      " [0.000000e+00 2.000000e-01 7.000000e-01]\n",
      " [0.000000e+00 4.000000e-01 6.000000e-01]\n",
      " [0.000000e+00 3.000000e-01 7.000000e-01]\n",
      " [0.000000e+00 5.000000e-01 6.000000e-01]\n",
      " [0.000000e+00 4.000000e-01 7.000000e-01]\n",
      " [0.000000e+00 6.000000e-01 6.000000e-01]\n",
      " [0.000000e+00 5.000000e-01 7.000000e-01]\n",
      " [0.000000e+00 6.000000e-01 6.000000e-01]\n",
      " [0.000000e+00 6.000000e-01 7.000000e-01]\n",
      " [0.000000e+00 6.000000e-01 7.000000e-01]\n",
      " [0.000000e+00 6.000000e-01 8.000000e-01]\n",
      " [0.000000e+00 7.000000e-01 7.000000e-01]\n",
      " [0.000000e+00 6.000000e-01 9.000000e-01]\n",
      " [0.000000e+00 7.000000e-01 8.000000e-01]\n",
      " [0.000000e+00 0.000000e+00 6.000000e-01]\n",
      " [0.000000e+00 7.000000e-01 9.000000e-01]\n",
      " [0.000000e+00 0.000000e+00 8.000000e-01]\n",
      " [0.000000e+00 1.000000e-01 8.000000e-01]\n",
      " [0.000000e+00 0.000000e+00 0.000000e+00]\n",
      " [0.000000e+00 2.000000e-01 8.000000e-01]\n",
      " [0.000000e+00 0.000000e+00 0.000000e+00]\n",
      " [0.000000e+00 3.000000e-01 8.000000e-01]\n",
      " [0.000000e+00 0.000000e+00 0.000000e+00]\n",
      " [0.000000e+00 4.000000e-01 8.000000e-01]\n",
      " [0.000000e+00 0.000000e+00 0.000000e+00]\n",
      " [0.000000e+00 5.000000e-01 8.000000e-01]\n",
      " [0.000000e+00 0.000000e+00 0.000000e+00]\n",
      " [0.000000e+00 6.000000e-01 8.000000e-01]\n",
      " [0.000000e+00 0.000000e+00 0.000000e+00]\n",
      " [0.000000e+00 6.000000e-01 8.000000e-01]\n",
      " [0.000000e+00 7.000000e-01 8.000000e-01]\n",
      " [0.000000e+00 0.000000e+00 0.000000e+00]\n",
      " [0.000000e+00 8.000000e-01 8.000000e-01]\n",
      " [0.000000e+00 0.000000e+00 0.000000e+00]\n",
      " [0.000000e+00 8.000000e-01 9.000000e-01]\n",
      " [0.000000e+00 0.000000e+00 0.000000e+00]\n",
      " [0.000000e+00 0.000000e+00 8.000000e-01]\n",
      " [0.000000e+00 0.000000e+00 0.000000e+00]]\n",
      "> <ipython-input-6-703a269bc5c2>(93)allCoordinates()\n",
      "-> allCoordinates = allCoordinates[allCoordinates[:,1].argsort(axis=0)]\n",
      "(Pdb) c\n"
     ]
    }
   ],
   "source": [
    "Coordi = allCoordinates(alpha,d,nx,ny,shape,BC,plot)\n"
   ]
  },
  {
   "cell_type": "code",
   "execution_count": 10,
   "metadata": {},
   "outputs": [
    {
     "data": {
      "text/plain": [
       "[<matplotlib.lines.Line2D at 0x1055c5f50>]"
      ]
     },
     "execution_count": 10,
     "metadata": {},
     "output_type": "execute_result"
    },
    {
     "data": {
      "image/png": "[encoded data removed]",
      "text/plain": [
       "<Figure size 432x288 with 1 Axes>"
      ]
     },
     "metadata": {
      "needs_background": "light"
     },
     "output_type": "display_data"
    }
   ],
   "source": [
    "plot(Coordi[:,1],Coordi[:,2],'.')"
   ]
  },
  {
   "cell_type": "code",
   "execution_count": null,
   "metadata": {},
   "outputs": [],
   "source": []
  }
 ],
 "metadata": {
  "kernelspec": {
   "display_name": "Python 2",
   "language": "python",
   "name": "python2"
  },
  "language_info": {
   "codemirror_mode": {
    "name": "ipython",
    "version": 2
   },
   "file_extension": ".py",
   "mimetype": "text/x-python",
   "name": "python",
   "nbconvert_exporter": "python",
   "pygments_lexer": "ipython2",
   "version": "2.7.15"
  }
 },
 "nbformat": 4,
 "nbformat_minor": 2
}

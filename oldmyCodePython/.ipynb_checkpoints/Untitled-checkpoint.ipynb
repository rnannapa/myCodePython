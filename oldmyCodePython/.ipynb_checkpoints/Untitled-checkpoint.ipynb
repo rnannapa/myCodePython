{
 "cells": [
  {
   "cell_type": "markdown",
   "metadata": {},
   "source": [
    "# MAIN FILE"
   ]
  },
  {
   "cell_type": "markdown",
   "metadata": {},
   "source": [
    "### Useful function calls"
   ]
  },
  {
   "cell_type": "code",
   "execution_count": 27,
   "metadata": {},
   "outputs": [
    {
     "name": "stdout",
     "output_type": "stream",
     "text": [
      "Populating the interactive namespace from numpy and matplotlib\n",
      "         2 function calls in 0.000 seconds\n",
      "\n",
      "   Ordered by: standard name\n",
      "\n",
      "   ncalls  tottime  percall  cumtime  percall filename:lineno(function)\n",
      "        1    0.000    0.000    0.000    0.000 <string>:1(<module>)\n",
      "        1    0.000    0.000    0.000    0.000 {method 'disable' of '_lsprof.Profiler' objects}\n",
      "\n",
      "\n"
     ]
    }
   ],
   "source": [
    "%pylab inline\n",
    "import cProfile\n",
    "cProfile.run('')\n",
    "import time\n",
    "# from numba import jit,autojit\n",
    "from pdb import set_trace as bp\n",
    "from math import *\n",
    "# import numpy as np\n",
    "import pandas as pd\n",
    "import scipy.linalg as linalg\n",
    "import scipy.optimize as opt\n",
    "# from Coordinates import allCoordinates\n",
    "# from Connectivity import Connectivity\n",
    "from sklearn.neighbors import KDTree"
   ]
  },
  {
   "cell_type": "code",
   "execution_count": 25,
   "metadata": {},
   "outputs": [],
   "source": [
    "a = array([[1,2],[2,3]])"
   ]
  },
  {
   "cell_type": "code",
   "execution_count": 26,
   "metadata": {},
   "outputs": [],
   "source": [
    "a.shape\n",
    "[n,m] = a.shape"
   ]
  },
  {
   "cell_type": "code",
   "execution_count": null,
   "metadata": {},
   "outputs": [],
   "source": [
    "shape = \"TRIANGLE\"\n",
    "angle = 90\n",
    "alpha = radians(angle)\n",
    "d = 1"
   ]
  },
  {
   "cell_type": "markdown",
   "metadata": {},
   "source": [
    "### Unit Cell nodes."
   ]
  },
  {
   "cell_type": "code",
   "execution_count": null,
   "metadata": {},
   "outputs": [],
   "source": [
    "def cellNodes(alpha,d,shape):\n",
    "    if shape == 'HEXAGON':\n",
    "        Coord = np.zeros((4,3))\n",
    "        Coord[0,0] = 0; Coord[0,1] = 0; Coord[0,2] = 0\n",
    "        Coord[1,0] = Coord[0,0]; Coord[1,1] = Coord[0,1]+d; Coord[1,2] = 0\n",
    "        Coord[2,0] = Coord[1,0] + d*cos(alpha); Coord[2,1] = Coord[1,1] + d*sin(alpha); Coord[2,2] = 0\n",
    "        Coord[3,0] = Coord[1,0] - d*cos(alpha); Coord[3,1] = Coord[1,1] + d*sin(alpha); Coord[3,2] = 0\n",
    "        return Coord\n",
    "        # print(Coord)\n",
    "    elif shape == 'TRIANGLE':\n",
    "        Coord = np.zeros((3,3))\n",
    "        Coord[0,0] = 0; Coord[0,1] = 0; Coord[0,2] = 0\n",
    "        Coord[1,0] = d; Coord[1,1] = 0; Coord[1,2] = 0\n",
    "        Coord[2,0] = d*cos(alpha); Coord[2,1] = d*sin(alpha); Coord[2,2] = 0\n",
    "        return Coord\n",
    "        # print(Coord)\n",
    "    else:\n",
    "        coordinates = 'Shape Not Defined. Try Hexagon or Triangle'\n",
    "        return"
   ]
  },
  {
   "cell_type": "code",
   "execution_count": null,
   "metadata": {},
   "outputs": [],
   "source": []
  },
  {
   "cell_type": "code",
   "execution_count": null,
   "metadata": {},
   "outputs": [],
   "source": []
  },
  {
   "cell_type": "code",
   "execution_count": null,
   "metadata": {},
   "outputs": [],
   "source": []
  }
 ],
 "metadata": {
  "kernelspec": {
   "display_name": "Python 2",
   "language": "python",
   "name": "python2"
  },
  "language_info": {
   "codemirror_mode": {
    "name": "ipython",
    "version": 2
   },
   "file_extension": ".py",
   "mimetype": "text/x-python",
   "name": "python",
   "nbconvert_exporter": "python",
   "pygments_lexer": "ipython2",
   "version": "2.7.15"
  }
 },
 "nbformat": 4,
 "nbformat_minor": 2
}

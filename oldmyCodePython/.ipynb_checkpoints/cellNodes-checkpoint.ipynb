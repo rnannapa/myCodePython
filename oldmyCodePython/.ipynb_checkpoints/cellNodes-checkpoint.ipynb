{
 "cells": [
  {
   "cell_type": "code",
   "execution_count": null,
   "metadata": {},
   "outputs": [],
   "source": [
    "def cellNodes(alpha,d,shape):\n",
    "    # shape = \"TRIANGLE\"\n",
    "    # angle = 90\n",
    "    # alpha = radians(angle)\n",
    "    # d = 1\n",
    "    if shape == 'HEXAGON':\n",
    "        Coord = np.zeros((4,3))\n",
    "        Coord[0,0] = 0; Coord[0,1] = 0; Coord[0,2] = 0\n",
    "        Coord[1,0] = Coord[0,0]; Coord[1,1] = Coord[0,1]+d; Coord[1,2] = 0\n",
    "        Coord[2,0] = Coord[1,0] + d*cos(alpha); Coord[2,1] = Coord[1,1] + d*sin(alpha); Coord[2,2] = 0\n",
    "        Coord[3,0] = Coord[1,0] - d*cos(alpha); Coord[3,1] = Coord[1,1] + d*sin(alpha); Coord[3,2] = 0\n",
    "        return Coord\n",
    "        # print(Coord)\n",
    "    elif shape == 'TRIANGLE':\n",
    "        Coord = np.zeros((3,3))\n",
    "        Coord[0,0] = 0; Coord[0,1] = 0; Coord[0,2] = 0\n",
    "        Coord[1,0] = d; Coord[1,1] = 0; Coord[1,2] = 0\n",
    "        Coord[2,0] = d*cos(alpha); Coord[2,1] = d*sin(alpha); Coord[2,2] = 0\n",
    "        return Coord\n",
    "        # print(Coord)\n",
    "    else:\n",
    "        coordinates = 'Shape Not Defined. Try Hexagon or Triangle'\n",
    "        return"
   ]
  }
 ],
 "metadata": {
  "kernelspec": {
   "display_name": "Python 2",
   "language": "python",
   "name": "python2"
  },
  "language_info": {
   "codemirror_mode": {
    "name": "ipython",
    "version": 2
   },
   "file_extension": ".py",
   "mimetype": "text/x-python",
   "name": "python",
   "nbconvert_exporter": "python",
   "pygments_lexer": "ipython2",
   "version": "2.7.15"
  }
 },
 "nbformat": 4,
 "nbformat_minor": 2
}
